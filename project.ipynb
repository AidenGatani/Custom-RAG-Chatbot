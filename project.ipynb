{
 "cells": [
  {
   "cell_type": "markdown",
   "id": "124e5672",
   "metadata": {},
   "source": [
    "# Custom Chatbot Project"
   ]
  },
  {
   "cell_type": "markdown",
   "id": "2a4a94b3",
   "metadata": {},
   "source": [
    "TODO: In this cell, write an explanation of which dataset you have chosen and why it is appropriate for this task"
   ]
  },
  {
   "cell_type": "markdown",
   "id": "a63d4c5f",
   "metadata": {},
   "source": [
    "## Data Wrangling\n",
    "\n",
    "TODO: In the cells below, load your chosen dataset into a `pandas` dataframe with a column named `\"text\"`. This column should contain all of your text data, separated into at least 20 rows."
   ]
  },
  {
   "cell_type": "markdown",
   "id": "94c02e09",
   "metadata": {},
   "source": [
    "### Why this dataset was used:\n",
    "\n",
    "Due to the fact that the dataset is a custom, proprietary dataset it would not have been included in the training data used to train any OpenAI LLM. Therefore it would be unlikely for the LLM to accurately answer any question on the data - without RAG or in-context learning. \n",
    "\n",
    "Additionally, given the fact questions asked on the dataset would be broad, general and have more than one answer (such as asking 'Describe the character Emily'), in-context learning is needed to give the LLM the right context in which these questions are asked."
   ]
  },
  {
   "cell_type": "code",
   "execution_count": 75,
   "id": "c403f543",
   "metadata": {},
   "outputs": [],
   "source": [
    "import pandas as pd\n",
    "import csv\n",
    "from openai import OpenAI\n",
    "from typing import List, Optional\n",
    "from scipy import spatial"
   ]
  },
  {
   "cell_type": "code",
   "execution_count": 120,
   "id": "0bde926b",
   "metadata": {},
   "outputs": [],
   "source": [
    "# Data\n",
    "filepath = 'data/'\n",
    "filename = 'character_descriptions.csv'\n",
    "\n",
    "# OpenAI\n",
    "\n",
    "COMPLETION_MODEL_NAME = \"gpt-3.5-turbo\"\n",
    "EMBEDDING_MODEL_NAME = \"text-embedding-3-small\"\n",
    "\n",
    "client = OpenAI(api_key = 'INSERT_OPENAI_KEY')"
   ]
  },
  {
   "cell_type": "code",
   "execution_count": 15,
   "id": "54b1dc30",
   "metadata": {},
   "outputs": [],
   "source": [
    "# Load the character data from file\n",
    "with open(filepath+filename, newline='') as csvfile:\n",
    "    reader = csv.DictReader(csvfile)\n",
    "    record_strings = []\n",
    "\n",
    "    for row in reader:\n",
    "        record_string = ' '.join([f\"{column}: {value}\" for column, value in row.items()])\n",
    "        record_strings.append(record_string)"
   ]
  },
  {
   "cell_type": "code",
   "execution_count": 16,
   "id": "35758544",
   "metadata": {},
   "outputs": [],
   "source": [
    "data = pd.DataFrame(record_strings, columns=['text'])"
   ]
  },
  {
   "cell_type": "code",
   "execution_count": 61,
   "id": "3ad02e1e",
   "metadata": {
    "scrolled": true
   },
   "outputs": [
    {
     "data": {
      "text/html": [
       "<div>\n",
       "<style scoped>\n",
       "    .dataframe tbody tr th:only-of-type {\n",
       "        vertical-align: middle;\n",
       "    }\n",
       "\n",
       "    .dataframe tbody tr th {\n",
       "        vertical-align: top;\n",
       "    }\n",
       "\n",
       "    .dataframe thead th {\n",
       "        text-align: right;\n",
       "    }\n",
       "</style>\n",
       "<table border=\"1\" class=\"dataframe\">\n",
       "  <thead>\n",
       "    <tr style=\"text-align: right;\">\n",
       "      <th></th>\n",
       "      <th>text</th>\n",
       "      <th>embedding</th>\n",
       "    </tr>\n",
       "  </thead>\n",
       "  <tbody>\n",
       "    <tr>\n",
       "      <th>0</th>\n",
       "      <td>Name: Emily Description: A young woman in her ...</td>\n",
       "      <td>[0.035315584391355515, 0.0066185323521494865, ...</td>\n",
       "    </tr>\n",
       "    <tr>\n",
       "      <th>1</th>\n",
       "      <td>Name: Jack Description: A middle-aged man in h...</td>\n",
       "      <td>[0.0018264292739331722, -0.007305717095732689,...</td>\n",
       "    </tr>\n",
       "    <tr>\n",
       "      <th>2</th>\n",
       "      <td>Name: Alice Description: A woman in her late 3...</td>\n",
       "      <td>[0.03802965208888054, -0.008232181891798973, 0...</td>\n",
       "    </tr>\n",
       "    <tr>\n",
       "      <th>3</th>\n",
       "      <td>Name: Tom Description: A man in his 50s, Tom i...</td>\n",
       "      <td>[0.00259851454757154, 0.02653220109641552, -0....</td>\n",
       "    </tr>\n",
       "    <tr>\n",
       "      <th>4</th>\n",
       "      <td>Name: Sarah Description: A woman in her mid-20...</td>\n",
       "      <td>[0.041170552372932434, 0.035535845905542374, -...</td>\n",
       "    </tr>\n",
       "  </tbody>\n",
       "</table>\n",
       "</div>"
      ],
      "text/plain": [
       "                                                text  \\\n",
       "0  Name: Emily Description: A young woman in her ...   \n",
       "1  Name: Jack Description: A middle-aged man in h...   \n",
       "2  Name: Alice Description: A woman in her late 3...   \n",
       "3  Name: Tom Description: A man in his 50s, Tom i...   \n",
       "4  Name: Sarah Description: A woman in her mid-20...   \n",
       "\n",
       "                                           embedding  \n",
       "0  [0.035315584391355515, 0.0066185323521494865, ...  \n",
       "1  [0.0018264292739331722, -0.007305717095732689,...  \n",
       "2  [0.03802965208888054, -0.008232181891798973, 0...  \n",
       "3  [0.00259851454757154, 0.02653220109641552, -0....  \n",
       "4  [0.041170552372932434, 0.035535845905542374, -...  "
      ]
     },
     "execution_count": 61,
     "metadata": {},
     "output_type": "execute_result"
    }
   ],
   "source": [
    "data.head()"
   ]
  },
  {
   "cell_type": "code",
   "execution_count": 23,
   "id": "13ccfa49",
   "metadata": {},
   "outputs": [],
   "source": [
    "# Create OpenAI embeddings\n",
    "data['embedding'] = None\n",
    "\n",
    "for index, row in data.iterrows():\n",
    "    \n",
    "    embedding = client.embeddings.create(input=row['text'],\n",
    "                                         model=EMBEDDING_MODEL_NAME)\n",
    "    \n",
    "    data.at[index, 'embedding'] = embedding.data[0].embedding"
   ]
  },
  {
   "cell_type": "code",
   "execution_count": 24,
   "id": "1082e957-ecfe-4f48-9f8f-44a86b7221b4",
   "metadata": {},
   "outputs": [
    {
     "data": {
      "text/html": [
       "<div>\n",
       "<style scoped>\n",
       "    .dataframe tbody tr th:only-of-type {\n",
       "        vertical-align: middle;\n",
       "    }\n",
       "\n",
       "    .dataframe tbody tr th {\n",
       "        vertical-align: top;\n",
       "    }\n",
       "\n",
       "    .dataframe thead th {\n",
       "        text-align: right;\n",
       "    }\n",
       "</style>\n",
       "<table border=\"1\" class=\"dataframe\">\n",
       "  <thead>\n",
       "    <tr style=\"text-align: right;\">\n",
       "      <th></th>\n",
       "      <th>text</th>\n",
       "      <th>embedding</th>\n",
       "    </tr>\n",
       "  </thead>\n",
       "  <tbody>\n",
       "    <tr>\n",
       "      <th>0</th>\n",
       "      <td>Name: Emily Description: A young woman in her ...</td>\n",
       "      <td>[0.035315584391355515, 0.0066185323521494865, ...</td>\n",
       "    </tr>\n",
       "    <tr>\n",
       "      <th>1</th>\n",
       "      <td>Name: Jack Description: A middle-aged man in h...</td>\n",
       "      <td>[0.0018264292739331722, -0.007305717095732689,...</td>\n",
       "    </tr>\n",
       "    <tr>\n",
       "      <th>2</th>\n",
       "      <td>Name: Alice Description: A woman in her late 3...</td>\n",
       "      <td>[0.03802965208888054, -0.008232181891798973, 0...</td>\n",
       "    </tr>\n",
       "    <tr>\n",
       "      <th>3</th>\n",
       "      <td>Name: Tom Description: A man in his 50s, Tom i...</td>\n",
       "      <td>[0.00259851454757154, 0.02653220109641552, -0....</td>\n",
       "    </tr>\n",
       "    <tr>\n",
       "      <th>4</th>\n",
       "      <td>Name: Sarah Description: A woman in her mid-20...</td>\n",
       "      <td>[0.041170552372932434, 0.035535845905542374, -...</td>\n",
       "    </tr>\n",
       "  </tbody>\n",
       "</table>\n",
       "</div>"
      ],
      "text/plain": [
       "                                                text  \\\n",
       "0  Name: Emily Description: A young woman in her ...   \n",
       "1  Name: Jack Description: A middle-aged man in h...   \n",
       "2  Name: Alice Description: A woman in her late 3...   \n",
       "3  Name: Tom Description: A man in his 50s, Tom i...   \n",
       "4  Name: Sarah Description: A woman in her mid-20...   \n",
       "\n",
       "                                           embedding  \n",
       "0  [0.035315584391355515, 0.0066185323521494865, ...  \n",
       "1  [0.0018264292739331722, -0.007305717095732689,...  \n",
       "2  [0.03802965208888054, -0.008232181891798973, 0...  \n",
       "3  [0.00259851454757154, 0.02653220109641552, -0....  \n",
       "4  [0.041170552372932434, 0.035535845905542374, -...  "
      ]
     },
     "execution_count": 24,
     "metadata": {},
     "output_type": "execute_result"
    }
   ],
   "source": [
    "data.head()"
   ]
  },
  {
   "cell_type": "markdown",
   "id": "1783f146",
   "metadata": {},
   "source": [
    "## Custom Performance Demonstration\n",
    "\n",
    "TODO: In the cells below, demonstrate the performance of your custom query using at least 2 questions. For each question, show the answer from a basic `Completion` model query as well as the answer from your custom query."
   ]
  },
  {
   "cell_type": "code",
   "execution_count": 46,
   "id": "be476976-63ca-4361-85e4-d06d13cb318b",
   "metadata": {},
   "outputs": [],
   "source": [
    "# Modification of the Open AI 'distances_from_embeddings' function\n",
    "def distances_from_embeddings(query_embedding: List[float], embeddings: List[List[float]], distance_metric=\"cosine\",) -> List[List]:\n",
    "    \n",
    "    \"\"\"Return the distances between a query embedding and a list of embeddings.\"\"\"\n",
    "    \n",
    "    distance_metrics = {\n",
    "        \"cosine\": spatial.distance.cosine,\n",
    "        \"L1\": spatial.distance.cityblock,\n",
    "        \"L2\": spatial.distance.euclidean,\n",
    "        \"Linf\": spatial.distance.chebyshev,\n",
    "    }\n",
    "    \n",
    "    distances = [\n",
    "        distance_metrics[distance_metric](query_embedding, embedding)\n",
    "        for embedding in embeddings\n",
    "    ]\n",
    "    \n",
    "    return distances"
   ]
  },
  {
   "cell_type": "code",
   "execution_count": 92,
   "id": "4901c850",
   "metadata": {},
   "outputs": [],
   "source": [
    "prompt_template = \"\"\"\n",
    "Answer the question based on the context below, and if the \n",
    "question can't be answered based on the context, say \n",
    "\"I don't know\"\n",
    "\n",
    "Context: \n",
    "\n",
    "{}\n",
    "\n",
    "---\n",
    "\n",
    "Question: {}\n",
    "Answer:\n",
    "\"\"\""
   ]
  },
  {
   "cell_type": "code",
   "execution_count": 93,
   "id": "fadecbbc-baf0-4b60-8eda-0fe1ef9aac7b",
   "metadata": {},
   "outputs": [],
   "source": [
    "question = 'Who is Emily?'"
   ]
  },
  {
   "cell_type": "code",
   "execution_count": 106,
   "id": "f2c29f63-934e-4184-9509-220027109e45",
   "metadata": {},
   "outputs": [],
   "source": [
    "# Function to prepare prompt with context\n",
    "\n",
    "def prepare_prompt(question):\n",
    "\n",
    "    # Get embedding for the question\n",
    "    q_embedding = client.embeddings.create(input=question, model=EMBEDDING_MODEL_NAME).data[0].embedding\n",
    "    # Get the distances from the question for all text embeddings\n",
    "    distances = distances_from_embeddings(query_embedding=q_embedding, embeddings=data['embedding'])\n",
    "    # Find the smallest distance embedding in the list\n",
    "    smallest_distance_embedding = distances.index(min(distances))\n",
    "    # Get the text for the embedding with the smallest distance\n",
    "    context = data.loc[smallest_distance_embedding]['text']\n",
    "    # create prompt\n",
    "    return prompt_template.format(context, question)"
   ]
  },
  {
   "cell_type": "code",
   "execution_count": 112,
   "id": "b79f4e4a-3bfb-4a9b-afbc-93065a035d1d",
   "metadata": {},
   "outputs": [
    {
     "name": "stdout",
     "output_type": "stream",
     "text": [
      "\n",
      "Answer the question based on the context below, and if the \n",
      "question can't be answered based on the context, say \n",
      "\"I don't know\"\n",
      "\n",
      "Context: \n",
      "\n",
      "Name: Emily Description: A young woman in her early 20s, Emily is an aspiring actress and Alice's daughter. She has a bubbly personality and a quick wit, but struggles with self-doubt and insecurity. She's also in a relationship with George. Medium: Play Setting: England\n",
      "\n",
      "---\n",
      "\n",
      "Question: Who is Emily?\n",
      "Answer:\n",
      "\n"
     ]
    }
   ],
   "source": [
    "prompt = prepare_prompt(question)\n",
    "\n",
    "print(prompt)"
   ]
  },
  {
   "cell_type": "code",
   "execution_count": 113,
   "id": "88d419d9-ef9d-48a3-b08c-e4e542b1365d",
   "metadata": {},
   "outputs": [
    {
     "name": "stdout",
     "output_type": "stream",
     "text": [
      "Emily is a young woman in her early 20s, an aspiring actress, and Alice's daughter.\n"
     ]
    }
   ],
   "source": [
    "# Get the response from OpenAI for the prompt with context\n",
    "\n",
    "response = client.chat.completions.create(model=COMPLETION_MODEL_NAME, messages=[{\"role\": \"user\", \"content\": prompt}])\n",
    "\n",
    "print(response.choices[0].message.content)"
   ]
  },
  {
   "cell_type": "code",
   "execution_count": 114,
   "id": "d0fbd65c-48f1-4900-9716-01b5359cf6cb",
   "metadata": {},
   "outputs": [
    {
     "name": "stdout",
     "output_type": "stream",
     "text": [
      "It is unclear who Emily is as the name is quite common. Can you provide more context or details to help identify which Emily you are referring to?\n"
     ]
    }
   ],
   "source": [
    "# Get the response from OpenAI WITHOUT context\n",
    "\n",
    "response = client.chat.completions.create(model=COMPLETION_MODEL_NAME, messages=[{\"role\": \"user\", \"content\": question}])\n",
    "\n",
    "print(response.choices[0].message.content)"
   ]
  },
  {
   "cell_type": "markdown",
   "id": "4f11fdc0",
   "metadata": {},
   "source": [
    "### Question 1"
   ]
  },
  {
   "cell_type": "markdown",
   "id": "6e86e37c",
   "metadata": {},
   "source": [
    "### Question 2"
   ]
  },
  {
   "cell_type": "code",
   "execution_count": 115,
   "id": "6f646989",
   "metadata": {},
   "outputs": [],
   "source": [
    "question2 = 'What is Jack\\'s play setting?'"
   ]
  },
  {
   "cell_type": "code",
   "execution_count": 117,
   "id": "11c07a54",
   "metadata": {},
   "outputs": [
    {
     "name": "stdout",
     "output_type": "stream",
     "text": [
      "\n",
      "Answer the question based on the context below, and if the \n",
      "question can't be answered based on the context, say \n",
      "\"I don't know\"\n",
      "\n",
      "Context: \n",
      "\n",
      "Name: Jack Description: A middle-aged man in his 40s, Jack is a successful businessman and Sarah's boss. He has a no-nonsense attitude, but is fiercely loyal to his friends and family. He's married to Alice. Medium: Play Setting: England\n",
      "\n",
      "---\n",
      "\n",
      "Question: What is Jack's play setting?\n",
      "Answer:\n",
      "\n"
     ]
    }
   ],
   "source": [
    "prompt2 = prepare_prompt(question2)\n",
    "\n",
    "print(prompt2)"
   ]
  },
  {
   "cell_type": "code",
   "execution_count": 118,
   "id": "ba442045-51cf-46a4-a695-20912eb0e0c4",
   "metadata": {},
   "outputs": [
    {
     "name": "stdout",
     "output_type": "stream",
     "text": [
      "England\n"
     ]
    }
   ],
   "source": [
    "# Get the response from OpenAI for the prompt with context\n",
    "\n",
    "response = client.chat.completions.create(model=COMPLETION_MODEL_NAME, messages=[{\"role\": \"user\", \"content\": prompt2}])\n",
    "\n",
    "print(response.choices[0].message.content)"
   ]
  },
  {
   "cell_type": "code",
   "execution_count": 119,
   "id": "89dd59b4-ca5c-4fc0-a223-490d91af2018",
   "metadata": {},
   "outputs": [
    {
     "name": "stdout",
     "output_type": "stream",
     "text": [
      "The play setting for Jack is the garden of his family home.\n"
     ]
    }
   ],
   "source": [
    "# Get the response from OpenAI WITHOUT context\n",
    "\n",
    "response = client.chat.completions.create(model=COMPLETION_MODEL_NAME, messages=[{\"role\": \"user\", \"content\": question2}])\n",
    "\n",
    "print(response.choices[0].message.content)"
   ]
  },
  {
   "cell_type": "code",
   "execution_count": null,
   "id": "a23f0d70-ada2-4055-a3bf-a28c3388b302",
   "metadata": {},
   "outputs": [],
   "source": []
  }
 ],
 "metadata": {
  "kernelspec": {
   "display_name": "Python 3 (ipykernel)",
   "language": "python",
   "name": "python3"
  },
  "language_info": {
   "codemirror_mode": {
    "name": "ipython",
    "version": 3
   },
   "file_extension": ".py",
   "mimetype": "text/x-python",
   "name": "python",
   "nbconvert_exporter": "python",
   "pygments_lexer": "ipython3",
   "version": "3.12.1"
  }
 },
 "nbformat": 4,
 "nbformat_minor": 5
}
